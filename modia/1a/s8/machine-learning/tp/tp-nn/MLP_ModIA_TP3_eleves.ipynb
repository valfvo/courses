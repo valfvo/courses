{
 "cells": [
  {
   "cell_type": "markdown",
   "metadata": {
    "id": "_PWCRomO2stZ"
   },
   "source": [
    "# TP3 - Premiers CNN \n",
    "\n",
    "# MNIST \n",
    "\n",
    "L'objectif de cette première de TP est d'utiliser une architecture CNN pour reconnaître des chiffres manuscrits sur la base de données du MNIST (http://yann.lecun.com/exdb/mnist/). Pour rappel, la base de chiffres manuscrits comprend un ensemble de 60 000 exemples d'apprentissage  et un ensemble de 10 000 exemples de test.  Les chiffres, dont quelques exemples sont représentés sur la figure, ont été normalisés et centrés dans une image de taille fixe $28\\times 28$ pixels. \n",
    "\n",
    "![mnist](https://www.ttested.com/gallery/thumbnails/ditch-mnist.jpg)\n",
    "\n",
    "\n"
   ]
  },
  {
   "cell_type": "code",
   "execution_count": 4,
   "metadata": {
    "id": "-x3EKKw-_BR7"
   },
   "outputs": [],
   "source": [
    "# import des librairies \n",
    "import numpy as np\n",
    "import tensorflow as tf\n",
    "#from tensorflow import keras\n",
    "from tensorflow.keras import layers\n",
    "import matplotlib.pyplot as plt\n",
    "\n",
    "# Librairies et fonctions nécessaires au design des réseaux de neurones\n",
    "import keras\n",
    "from keras import layers\n",
    "from keras import models\n",
    "from keras.layers import Dense, Conv2D, MaxPooling2D, Flatten, Activation\n",
    "from keras.models import Model, Sequential\n",
    "\n",
    "from sklearn.model_selection import train_test_split\n"
   ]
  },
  {
   "cell_type": "markdown",
   "metadata": {
    "id": "1gaTOmNG_KZO"
   },
   "source": [
    "## Chargement des données"
   ]
  },
  {
   "cell_type": "code",
   "execution_count": 5,
   "metadata": {
    "id": "QMjeVml7_CfW"
   },
   "outputs": [
    {
     "name": "stdout",
     "output_type": "stream",
     "text": [
      "(54000, 28, 28, 1)\n",
      "(6000, 28, 28, 1)\n",
      "(10000, 28, 28, 1)\n"
     ]
    }
   ],
   "source": [
    "# Nombre de classes\n",
    "num_classes = 10\n",
    "\n",
    "# Chargement base d'apprentissage et de test \n",
    "(x_train, y_train), (x_test, y_test) = tf.keras.datasets.mnist.load_data()\n",
    "\n",
    "X_train1,  X_val, y_train1, y_val = train_test_split(x_train, y_train, test_size=0.1, shuffle=False)\n",
    "\n",
    "# Reshape des data pour les formatter en 28x28x1\n",
    "X_train1 = X_train1.reshape(-1, 28,28,1)\n",
    "X_val = X_val.reshape(-1, 28,28,1)\n",
    "x_test=x_test.reshape(-1, 28,28,1)\n",
    "\n",
    "# normalisation \n",
    "X_train1 = X_train1.astype(\"float32\") / 255\n",
    "X_val=X_val.astype(\"float32\") / 255\n",
    "x_test = x_test.astype(\"float32\") / 255\n",
    "\n",
    "# Affichage de la nouvelle shape des données (maintenant sous forme de matrice 28x28)\n",
    "print(X_train1.shape)\n",
    "print(X_val.shape)\n",
    "print(x_test.shape)\n",
    "\n",
    "# Passer les labels en categorical\n",
    "y_train1 = tf.keras.utils.to_categorical(y_train1, num_classes)\n",
    "y_val = tf.keras.utils.to_categorical(y_val, num_classes)\n",
    "y_test = tf.keras.utils.to_categorical(y_test, num_classes)\n"
   ]
  },
  {
   "cell_type": "markdown",
   "metadata": {
    "id": "F34s3Nla_TPd"
   },
   "source": [
    "## Architecture CNN"
   ]
  },
  {
   "cell_type": "code",
   "execution_count": 13,
   "metadata": {
    "id": "6fQvViXt_P9c"
   },
   "outputs": [
    {
     "name": "stdout",
     "output_type": "stream",
     "text": [
      "Model: \"sequential_5\"\n",
      "_________________________________________________________________\n",
      "Layer (type)                 Output Shape              Param #   \n",
      "=================================================================\n",
      "conv2d_1 (Conv2D)            (None, 26, 26, 2)         20        \n",
      "_________________________________________________________________\n",
      "flatten_1 (Flatten)          (None, 1352)              0         \n",
      "_________________________________________________________________\n",
      "dense_3 (Dense)              (None, 10)                13530     \n",
      "=================================================================\n",
      "Total params: 13,550\n",
      "Trainable params: 13,550\n",
      "Non-trainable params: 0\n",
      "_________________________________________________________________\n"
     ]
    }
   ],
   "source": [
    "# Création de l'architecture \n",
    "model = Sequential()\n",
    "\n",
    "model.summary()"
   ]
  },
  {
   "cell_type": "markdown",
   "metadata": {
    "id": "fg2cxVcq_bmk"
   },
   "source": [
    "## Entraînement "
   ]
  },
  {
   "cell_type": "code",
   "execution_count": null,
   "metadata": {},
   "outputs": [],
   "source": [
    "# Optimisation du modèle \n",
    "\n",
    "opt = keras.optimizers.Adam(learning_rate=1e-3) \n",
    "\n",
    "model.compile(loss='categorical_crossentropy',\n",
    "              optimizer=opt,\n",
    "              metrics=['acc'])\n",
    "\n",
    "history = model.fit(X_train1, y_train1,\n",
    "          epochs=10,\n",
    "          validation_data=(X_val, y_val),\n",
    "          batch_size=16)"
   ]
  },
  {
   "cell_type": "markdown",
   "metadata": {
    "id": "8vCl7G05_lUw"
   },
   "source": [
    "## Analyse des résultats "
   ]
  },
  {
   "cell_type": "code",
   "execution_count": null,
   "metadata": {
    "id": "E-S4Iflw_QBD"
   },
   "outputs": [],
   "source": [
    "# Analyse des résultats \n",
    "\n",
    "def plot_training_analysis():\n",
    "  acc = history.history['acc']\n",
    "  val_acc = history.history['val_acc']\n",
    "  loss = history.history['loss']\n",
    "  val_loss = history.history['val_loss']\n",
    "\n",
    "  epochs = range(len(acc))\n",
    "\n",
    "  plt.plot(epochs, acc, 'b', linestyle=\"--\",label='Training acc')\n",
    "  plt.plot(epochs, val_acc, 'g', label='Validation acc')\n",
    "  plt.title('Training and validation accuracy')\n",
    "  plt.legend()\n",
    "\n",
    "  plt.figure()\n",
    "\n",
    "  plt.plot(epochs, loss, 'b', linestyle=\"--\",label='Training loss')\n",
    "  plt.plot(epochs, val_loss,'g', label='Validation loss')\n",
    "  plt.title('Training and validation loss')\n",
    "  plt.legend()\n",
    "\n",
    "  plt.show()"
   ]
  },
  {
   "cell_type": "code",
   "execution_count": null,
   "metadata": {
    "id": "Tcx_XWa3_QEw"
   },
   "outputs": [],
   "source": []
  },
  {
   "cell_type": "markdown",
   "metadata": {
    "id": "jZz8Jwti9k6T"
   },
   "source": [
    "## Evaluation sur la base de test "
   ]
  },
  {
   "cell_type": "code",
   "execution_count": null,
   "metadata": {
    "id": "fV21osc6_QIq"
   },
   "outputs": [],
   "source": []
  },
  {
   "cell_type": "markdown",
   "metadata": {
    "id": "4WZPvDiv-Tp5"
   },
   "source": [
    "# Fashion-MNIST\n",
    "\n",
    "\n",
    "Fashion-MNIST est un jeu de données d'images d'articles de Zalando (https://github.com/zalandoresearch/fashion-mnist), composé d'un ensemble d'apprentissage de 60 000 exemples et d'un ensemble de test de 10 000 exemples. Chaque exemple est une image en niveaux de gris de 28x28, associée à une étiquette parmi 10 classes. Zalando souhaite que Fashion-MNIST remplace directement le jeu de données MNIST original pour l'évaluation des algorithmes d'apprentissage automatique. Il partage la même taille d'image et la même structure de divisions de formation et de test.\n",
    "\n",
    "![Fashion-mnist](https://pyimagesearch.com/wp-content/uploads/2019/02/fashion_mnist_dataset_sample.png)\n",
    "\n",
    "\n",
    "\n",
    "Le jeu de données MNIST original contient beaucoup de chiffres manuscrits. Les membres de la communauté de l'IA/ML/Science des données adorent ce jeu de données et l'utilisent comme référence pour valider leurs algorithmes. En fait, MNIST est souvent le premier jeu de données que les chercheurs essaient. \"Si cela ne fonctionne pas sur MNIST, cela ne fonctionnera pas du tout\", ont-ils dit. \"Et si ça marche sur MNIST, ça peut encore échouer sur d'autres\".\n",
    "\n",
    "Zalando cherche à remplacer le jeu de données MNIST original.\n",
    "\n",
    "\n",
    "## Description des données\n",
    "1. Chaque image mesure 28 pixels de hauteur et 28 pixels de largeur, soit 784 pixels au total.\n",
    "2. Chaque pixel est associé à une valeur unique, qui indique la clarté ou l'obscurité du pixel, les chiffres les plus élevés signifiant les plus sombres. Cette valeur de pixel est un nombre entier compris entre 0 et 255.\n",
    "3. Les ensembles de données d'apprentissage et de test comportent 785 colonnes.\n",
    "4.La première colonne est constituée des étiquettes de classe (voir ci-dessus) et représente l'article de vêtement.\n",
    "5.Les autres colonnes contiennent les valeurs des pixels de l'image associée.\n",
    "\n",
    "\n",
    "Pour localiser un pixel sur l'image, supposons que nous ayons décomposé x comme suit : x = i * 28 + j, où i et j sont des entiers compris entre 0 et 27. Le pixel est situé sur la ligne i et la colonne j d'une matrice 28 x 28. \n",
    "\n",
    "\n",
    "## Description des classes \n",
    "\n",
    "Chaque exemple d'apprentissage et de test est affecté à l'une des étiquettes suivantes :\n",
    "\n",
    "0. T-shirt/top\n",
    "1. Pantalon\n",
    "2. Pull-over\n",
    "3. Robe\n",
    "4. Manteau\n",
    "5. Sandale\n",
    "6. Chemise\n",
    "7. Sneakers\n",
    "8. Sac\n",
    "9. Botte \n"
   ]
  },
  {
   "cell_type": "markdown",
   "metadata": {
    "id": "Vv5y9FkbAGTP"
   },
   "source": [
    "## Chargement des données"
   ]
  },
  {
   "cell_type": "code",
   "execution_count": null,
   "metadata": {
    "id": "11UuOApr2cIz"
   },
   "outputs": [],
   "source": [
    "from keras.datasets import fashion_mnist\n",
    "\n",
    "# Nombre de classes\n",
    "num_classes = 10\n",
    "targets_names = [\"T-shirt\", \"Pantalon\", \"Pull\", \"Robe\", \"Manteau\", \"Sandale\", \"Chemise\", \"Sneaker\", \"Sac\", \"Bottes\"]\n",
    "\n",
    "# Chargement base d'apprentissage et de test \n",
    "(images_train, y_train), (images_test, y_test) = fashion_mnist.load_data()\n",
    "\n",
    "# normalisation \n",
    "#x_train = image_train.astype(\"float32\") / 255\n",
    "#x_test = image_test.astype(\"float32\") / 255\n",
    "\n",
    "# Passer les labels en categorical\n",
    "y_train = tf.keras.utils.to_categorical(y_train, num_classes)\n",
    "y_test = tf.keras.utils.to_categorical(y_test, num_classes)\n"
   ]
  },
  {
   "cell_type": "code",
   "execution_count": null,
   "metadata": {
    "colab": {
     "base_uri": "https://localhost:8080/"
    },
    "id": "xEMHLc3nAhE6",
    "outputId": "d1dcecc0-0c01-466f-89d6-a3e0ce06ec82"
   },
   "outputs": [
    {
     "name": "stdout",
     "output_type": "stream",
     "text": [
      "(60000, 28, 28)\n",
      "(60000, 10)\n"
     ]
    }
   ],
   "source": [
    "print(images_train.shape)\n",
    "print(y_train.shape)"
   ]
  },
  {
   "cell_type": "code",
   "execution_count": null,
   "metadata": {
    "colab": {
     "base_uri": "https://localhost:8080/",
     "height": 269
    },
    "id": "5GuUEbnHAhOz",
    "outputId": "53f7b9bd-4de2-4fc0-de0b-34bbd6dcbc02"
   },
   "outputs": [
    {
     "data": {
      "image/png": "[encoded data removed]",
      "text/plain": [
       "<Figure size 432x288 with 25 Axes>"
      ]
     },
     "metadata": {
      "needs_background": "light",
      "tags": []
     },
     "output_type": "display_data"
    }
   ],
   "source": [
    "# Quelques exemples \n",
    "for i in range(25):\n",
    "    plt.subplot(5,5,i+1);\n",
    "    h = plt.imshow(images_train[1000*i]);"
   ]
  },
  {
   "cell_type": "markdown",
   "metadata": {
    "id": "LEJXwRqmHD8a"
   },
   "source": [
    "# Architecture CNN"
   ]
  },
  {
   "cell_type": "code",
   "execution_count": null,
   "metadata": {
    "id": "GNbSEfo3HCZO"
   },
   "outputs": [],
   "source": [
    "# A vous de jouer !"
   ]
  },
  {
   "cell_type": "markdown",
   "metadata": {
    "id": "p7Id-eSjHTmC"
   },
   "source": [
    "# Entraînement"
   ]
  },
  {
   "cell_type": "code",
   "execution_count": null,
   "metadata": {
    "id": "4rzuNdmwHCnt"
   },
   "outputs": [],
   "source": [
    "# A vous de jouer !"
   ]
  },
  {
   "cell_type": "markdown",
   "metadata": {
    "id": "_6wCszN6HX4V"
   },
   "source": [
    "# Analyse des résultats"
   ]
  },
  {
   "cell_type": "code",
   "execution_count": null,
   "metadata": {
    "id": "NPdJ429vHYCp"
   },
   "outputs": [],
   "source": [
    "# A vous de jouer !"
   ]
  }
 ],
 "metadata": {
  "colab": {
   "collapsed_sections": [],
   "name": "MLP_ModIA_TP3.ipynb",
   "provenance": []
  },
  "kernelspec": {
   "display_name": "Python 3 (ipykernel)",
   "language": "python",
   "name": "python3"
  },
  "language_info": {
   "codemirror_mode": {
    "name": "ipython",
    "version": 3
   },
   "file_extension": ".py",
   "mimetype": "text/x-python",
   "name": "python",
   "nbconvert_exporter": "python",
   "pygments_lexer": "ipython3",
   "version": "3.10.6"
  }
 },
 "nbformat": 4,
 "nbformat_minor": 4
}
