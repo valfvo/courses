{
 "cells": [
  {
   "cell_type": "markdown",
   "metadata": {
    "id": "fQB4MFEw5P95"
   },
   "source": [
    "# TP 2 - Régression\n",
    "\n",
    "## Prédiction des prix de l'immobilier à Boston dans les années 1970"
   ]
  },
  {
   "cell_type": "markdown",
   "metadata": {
    "id": "tJZw5poy5PMF"
   },
   "source": [
    "La prédiction du prix de maisons bostoniennes des années 1970, dont les données sont issues de la base *Boston House Prices*, créée par D. Harrison et D.L. Rubinfeld à l'Université de Californie à Irvine (http://archive.ics.uci.edu/ml/machine-learning-databases/housing/), est un problème classique d'apprentissage supervisé. \n",
    "\n",
    "<img src=\"https://1.bp.blogspot.com/-sCZIatDf9LQ/XGm-lEHXnAI/AAAAAAAAPxQ/kv8S8fdgudAwWTFuJhuAoiykLmWLCoOtgCLcBGAs/s1600/197010xx-GovernmentCenter-Boston_resize.JPG\" width=600 />\n",
    "\n",
    "Plus précisément, le label à prédire dans cette base de données est le prix médian par quartier de l'immobilier (en milliers de dollars). Il s'agit donc d'un problème de régression puisque l'on veut inférer des valeurs continues. Pour ce faire, on dispose de 13 entrées offrant les informations suivantes : \n",
    "\n",
    "- CRIM - per capita crime rate by town\n",
    "- ZN - proportion of residential land zoned for lots over 25,000 sq.ft.\n",
    "- INDUS - proportion of non-retail business acres per town.\n",
    "- CHAS - Charles River dummy variable (1 if tract bounds river; 0 otherwise)\n",
    "- NOX - nitric oxides concentration (parts per 10 million)\n",
    "- RM - average number of rooms per dwelling\n",
    "- AGE - proportion of owner-occupied units built prior to 1940\n",
    "- DIS - weighted distances to five Boston employment centres\n",
    "- TAX - full-value property-tax rate per \\$10,000\n",
    "- RAD - index of accessibility to radial highways\n",
    "- PTRATIO - pupil-teacher ratio by town\n",
    "- B $ = 1000(B_k - 0.63)^2$ where $B_k$ is the proportion of blacks by town\n",
    "- LSTAT - percentage lower status of the population\n",
    "\n",
    "L'objectif de ce TP est d'arriver à prédire au plus près les valeurs médianes de prix de maison par quartier.\n"
   ]
  },
  {
   "cell_type": "code",
   "execution_count": 1,
   "metadata": {
    "id": "1axmrheN5Ibx"
   },
   "outputs": [
    {
     "name": "stderr",
     "output_type": "stream",
     "text": [
      "Using TensorFlow backend.\n"
     ]
    }
   ],
   "source": [
    "from __future__ import print_function\n",
    "import numpy as np\n",
    "from matplotlib import pyplot as plt\n",
    "from keras import optimizers\n",
    "from keras.models import Sequential\n",
    "from keras.layers import Dense, Activation\n",
    "from keras import regularizers\n",
    "\n",
    "%matplotlib inline"
   ]
  },
  {
   "cell_type": "code",
   "execution_count": 2,
   "metadata": {
    "id": "wBYqZ-Rc56tU"
   },
   "outputs": [],
   "source": [
    "def plot_loss(val_loss, train_loss, ymax=100):\n",
    "  plt.plot(val_loss, color='green', label='Erreur de validation')\n",
    "  plt.plot(train_loss, color='blue', linestyle='--', label='Erreur d\\'entraînement')\n",
    "  plt.xlabel('Epochs')\n",
    "  plt.ylim(0, ymax)\n",
    "  plt.title('Évolution de la perte sur les ensembles d\\'apprentissage et de validation au cours de l\\'apprentissage')\n",
    "  plt.legend()"
   ]
  },
  {
   "cell_type": "markdown",
   "metadata": {
    "id": "2vG4j5Mi6GlO"
   },
   "source": [
    "# Chargement des données"
   ]
  },
  {
   "cell_type": "code",
   "execution_count": 3,
   "metadata": {
    "id": "Y4lBqj2o5-cP"
   },
   "outputs": [
    {
     "name": "stdout",
     "output_type": "stream",
     "text": [
      "Downloading data from https://s3.amazonaws.com/keras-datasets/boston_housing.npz\n",
      "57344/57026 [==============================] - 0s 2us/step\n"
     ]
    }
   ],
   "source": [
    "from keras.datasets import boston_housing\n",
    "\n",
    "(x_train, y_train), (x_test, y_test) = boston_housing.load_data()\n"
   ]
  },
  {
   "cell_type": "markdown",
   "metadata": {
    "id": "U9IvprFx6MEj"
   },
   "source": [
    "# Architecture envisagée"
   ]
  },
  {
   "cell_type": "code",
   "execution_count": null,
   "metadata": {},
   "outputs": [],
   "source": [
    "# Création de l'architecture \n",
    "model = Sequential()\n",
    "model.add(Dense(4, activation='relu', input_dim=13))\n",
    "model.add(Dense(1, activation='sigmoid'))"
   ]
  },
  {
   "cell_type": "markdown",
   "metadata": {
    "id": "LhUbAxHF6cMF"
   },
   "source": [
    "# Entraînement du réseau"
   ]
  },
  {
   "cell_type": "code",
   "execution_count": 5,
   "metadata": {
    "colab": {
     "base_uri": "https://localhost:8080/"
    },
    "id": "eratZJYL6cX-",
    "outputId": "a6124648-20b6-497e-c88e-c70272c7984f"
   },
   "outputs": [
    {
     "name": "stdout",
     "output_type": "stream",
     "text": [
      "WARNING:tensorflow:From /home/zsx/anaconda3/envs/sga/lib/python3.6/site-packages/keras/backend/tensorflow_backend.py:422: The name tf.global_variables is deprecated. Please use tf.compat.v1.global_variables instead.\n",
      "\n",
      "Epoch 1/50\n",
      "404/404 [==============================] - 0s 349us/step - loss: 577.5286 - mae: 22.1228\n",
      "Epoch 2/50\n",
      "404/404 [==============================] - 0s 20us/step - loss: 577.4154 - mae: 22.1178\n",
      "Epoch 3/50\n",
      "404/404 [==============================] - 0s 20us/step - loss: 577.4154 - mae: 22.1178\n",
      "Epoch 4/50\n",
      "404/404 [==============================] - 0s 17us/step - loss: 576.2910 - mae: 22.0930\n",
      "Epoch 5/50\n",
      "404/404 [==============================] - 0s 20us/step - loss: 542.3711 - mae: 21.3951\n",
      "Epoch 6/50\n",
      "404/404 [==============================] - 0s 16us/step - loss: 542.3704 - mae: 21.3950\n",
      "Epoch 7/50\n",
      "404/404 [==============================] - 0s 21us/step - loss: 542.3704 - mae: 21.3950\n",
      "Epoch 8/50\n",
      "404/404 [==============================] - 0s 18us/step - loss: 542.3704 - mae: 21.3951\n",
      "Epoch 9/50\n",
      "404/404 [==============================] - 0s 21us/step - loss: 542.3704 - mae: 21.3951\n",
      "Epoch 10/50\n",
      "404/404 [==============================] - 0s 16us/step - loss: 542.3704 - mae: 21.3950\n",
      "Epoch 11/50\n",
      "404/404 [==============================] - 0s 20us/step - loss: 542.3704 - mae: 21.3950\n",
      "Epoch 12/50\n",
      "404/404 [==============================] - 0s 18us/step - loss: 542.3704 - mae: 21.3951\n",
      "Epoch 13/50\n",
      "404/404 [==============================] - 0s 20us/step - loss: 542.3704 - mae: 21.3950\n",
      "Epoch 14/50\n",
      "404/404 [==============================] - 0s 16us/step - loss: 542.3704 - mae: 21.3951\n",
      "Epoch 15/50\n",
      "404/404 [==============================] - 0s 20us/step - loss: 542.3704 - mae: 21.3951\n",
      "Epoch 16/50\n",
      "404/404 [==============================] - 0s 17us/step - loss: 542.3704 - mae: 21.3950\n",
      "Epoch 17/50\n",
      "404/404 [==============================] - 0s 19us/step - loss: 542.3704 - mae: 21.3951\n",
      "Epoch 18/50\n",
      "404/404 [==============================] - 0s 16us/step - loss: 542.3704 - mae: 21.3951\n",
      "Epoch 19/50\n",
      "404/404 [==============================] - 0s 22us/step - loss: 542.3704 - mae: 21.3951\n",
      "Epoch 20/50\n",
      "404/404 [==============================] - 0s 17us/step - loss: 542.3704 - mae: 21.3951\n",
      "Epoch 21/50\n",
      "404/404 [==============================] - 0s 24us/step - loss: 542.3704 - mae: 21.3950\n",
      "Epoch 22/50\n",
      "404/404 [==============================] - 0s 18us/step - loss: 542.3704 - mae: 21.3951\n",
      "Epoch 23/50\n",
      "404/404 [==============================] - 0s 20us/step - loss: 542.3704 - mae: 21.3950\n",
      "Epoch 24/50\n",
      "404/404 [==============================] - 0s 19us/step - loss: 542.3704 - mae: 21.3951\n",
      "Epoch 25/50\n",
      "404/404 [==============================] - 0s 20us/step - loss: 542.3704 - mae: 21.3951\n",
      "Epoch 26/50\n",
      "404/404 [==============================] - 0s 22us/step - loss: 542.3704 - mae: 21.3950\n",
      "Epoch 27/50\n",
      "404/404 [==============================] - 0s 17us/step - loss: 542.3704 - mae: 21.3951\n",
      "Epoch 28/50\n",
      "404/404 [==============================] - 0s 20us/step - loss: 542.3704 - mae: 21.3951\n",
      "Epoch 29/50\n",
      "404/404 [==============================] - 0s 18us/step - loss: 542.3704 - mae: 21.3950\n",
      "Epoch 30/50\n",
      "404/404 [==============================] - 0s 20us/step - loss: 542.3704 - mae: 21.3951\n",
      "Epoch 31/50\n",
      "404/404 [==============================] - 0s 18us/step - loss: 542.3704 - mae: 21.3950\n",
      "Epoch 32/50\n",
      "404/404 [==============================] - 0s 15us/step - loss: 542.3704 - mae: 21.3951\n",
      "Epoch 33/50\n",
      "404/404 [==============================] - 0s 18us/step - loss: 542.3704 - mae: 21.3951\n",
      "Epoch 34/50\n",
      "404/404 [==============================] - 0s 18us/step - loss: 542.3704 - mae: 21.3951\n",
      "Epoch 35/50\n",
      "404/404 [==============================] - 0s 17us/step - loss: 542.3704 - mae: 21.3950\n",
      "Epoch 36/50\n",
      "404/404 [==============================] - 0s 16us/step - loss: 542.3704 - mae: 21.3950\n",
      "Epoch 37/50\n",
      "404/404 [==============================] - 0s 19us/step - loss: 542.3704 - mae: 21.3950\n",
      "Epoch 38/50\n",
      "404/404 [==============================] - 0s 19us/step - loss: 542.3704 - mae: 21.3950\n",
      "Epoch 39/50\n",
      "404/404 [==============================] - 0s 24us/step - loss: 542.3704 - mae: 21.3950\n",
      "Epoch 40/50\n",
      "404/404 [==============================] - 0s 23us/step - loss: 542.3704 - mae: 21.3951\n",
      "Epoch 41/50\n",
      "404/404 [==============================] - 0s 18us/step - loss: 542.3704 - mae: 21.3951\n",
      "Epoch 42/50\n",
      "404/404 [==============================] - 0s 19us/step - loss: 542.3704 - mae: 21.3950\n",
      "Epoch 43/50\n",
      "404/404 [==============================] - 0s 19us/step - loss: 542.3704 - mae: 21.3951\n",
      "Epoch 44/50\n",
      "404/404 [==============================] - 0s 23us/step - loss: 542.3704 - mae: 21.3951\n",
      "Epoch 45/50\n",
      "404/404 [==============================] - 0s 20us/step - loss: 542.3704 - mae: 21.3951\n",
      "Epoch 46/50\n",
      "404/404 [==============================] - 0s 23us/step - loss: 542.3704 - mae: 21.3951\n",
      "Epoch 47/50\n",
      "404/404 [==============================] - 0s 20us/step - loss: 542.3704 - mae: 21.3950\n",
      "Epoch 48/50\n",
      "404/404 [==============================] - 0s 20us/step - loss: 542.3704 - mae: 21.3950\n",
      "Epoch 49/50\n",
      "404/404 [==============================] - 0s 23us/step - loss: 542.3704 - mae: 21.3950\n",
      "Epoch 50/50\n",
      "404/404 [==============================] - 0s 22us/step - loss: 542.3704 - mae: 21.3950\n"
     ]
    }
   ],
   "source": [
    "optim = optimizers.SGD(lr = 0.01)\n",
    "model.compile(optimizer=optim, loss='mse', metrics=['mae'])\n",
    "\n",
    "history = model.fit(x_train, y_train, epochs=50, batch_size=32)"
   ]
  },
  {
   "cell_type": "markdown",
   "metadata": {
    "id": "8VAP5X9n6qgW"
   },
   "source": [
    "# Evaluation du modèle"
   ]
  },
  {
   "cell_type": "code",
   "execution_count": 11,
   "metadata": {
    "colab": {
     "base_uri": "https://localhost:8080/",
     "height": 297
    },
    "id": "FSc6s2Fg6prc",
    "outputId": "dcef46f0-8176-4d49-e04d-ad566bf7947a"
   },
   "outputs": [
    {
     "data": {
      "image/png": "[encoded data removed]",
      "text/plain": [
       "<Figure size 432x288 with 1 Axes>"
      ]
     },
     "metadata": {
      "needs_background": "light"
     },
     "output_type": "display_data"
    }
   ],
   "source": [
    "train_loss=(history.history['loss'])\n",
    "plot_loss([], train_loss, ymax=800)\n",
    "#val_loss=(history.history['val_loss'])\n",
    "#plot_loss(val_loss, train_loss, ymax=500)"
   ]
  },
  {
   "cell_type": "code",
   "execution_count": 12,
   "metadata": {
    "colab": {
     "base_uri": "https://localhost:8080/"
    },
    "id": "51mg034F6yhl",
    "outputId": "f0925796-d074-422f-84ed-53442b31a2c4"
   },
   "outputs": [
    {
     "name": "stdout",
     "output_type": "stream",
     "text": [
      "102/102 [==============================] - 0s 443us/step\n"
     ]
    },
    {
     "data": {
      "text/plain": [
       "[570.7009887695312, 22.078432083129883]"
      ]
     },
     "execution_count": 12,
     "metadata": {},
     "output_type": "execute_result"
    }
   ],
   "source": [
    "model.evaluate(x_test, y_test)"
   ]
  },
  {
   "cell_type": "markdown",
   "metadata": {
    "id": "RjIJIV2V6yYv"
   },
   "source": [
    "On obtient une mae d'environ 22, ce qui signie que l'on est éloigné en moyenne de 22000$ de la vérité terrain.\n"
   ]
  },
  {
   "cell_type": "markdown",
   "metadata": {
    "id": "Oy1Xzd_17CZ1"
   },
   "source": [
    "# Travail à faire \n",
    "\n",
    "L'approche présentée ci-dessus apporte des résultats décevants, en raison de  quelques maladresses, voire erreurs. Dans un premier temps, vous devez **trouver et corriger ces problèmes**.\n",
    "\n",
    "Dans un second temps, cherchez à améliorer les performances du modèle. Vous pouvez atteindre sans trop de difficulté un score de MAE inférieur à 3 sur l'ensemble de test. Pour vous aider, inspirez-vous de la vidéo du cours ci-dessous. A chaque nouveau test, vous devez évaluer si votre réseau est en sous-apprentissage, ou en sur-apprentissage, et en déduire des modifications possibles pour en améliorer les performances.\n",
    "\n",
    "MAE de test à battre si vous aimez les défis : **2.20** !\n"
   ]
  },
  {
   "cell_type": "code",
   "execution_count": null,
   "metadata": {
    "id": "DHzb86w57KZZ"
   },
   "outputs": [],
   "source": []
  },
  {
   "cell_type": "code",
   "execution_count": null,
   "metadata": {
    "id": "Vr-X9Tpu7KfR"
   },
   "outputs": [],
   "source": []
  }
 ],
 "metadata": {
  "colab": {
   "collapsed_sections": [],
   "name": "MLP-ModIA-TP2.ipynb",
   "provenance": []
  },
  "kernelspec": {
   "display_name": "Python 3 (ipykernel)",
   "language": "python",
   "name": "python3"
  },
  "language_info": {
   "codemirror_mode": {
    "name": "ipython",
    "version": 3
   },
   "file_extension": ".py",
   "mimetype": "text/x-python",
   "name": "python",
   "nbconvert_exporter": "python",
   "pygments_lexer": "ipython3",
   "version": "3.10.6"
  }
 },
 "nbformat": 4,
 "nbformat_minor": 4
}
