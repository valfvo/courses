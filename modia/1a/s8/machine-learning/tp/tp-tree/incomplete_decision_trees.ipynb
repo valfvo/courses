{
 "cells": [
  {
   "attachments": {},
   "cell_type": "markdown",
   "metadata": {},
   "source": [
    "# Decision tree classifier"
   ]
  },
  {
   "cell_type": "code",
   "execution_count": 1,
   "metadata": {},
   "outputs": [],
   "source": [
    "import numpy as np\n",
    "\n",
    "import matplotlib as mpl\n",
    "from matplotlib import pyplot as plt\n",
    "%matplotlib inline"
   ]
  },
  {
   "cell_type": "code",
   "execution_count": null,
   "metadata": {},
   "outputs": [],
   "source": [
    "class Node:\n",
    "    '''\n",
    "    the class representing a single node in a decision tree\n",
    "    '''\n",
    "    def __init__(self, depth, X=None, y=None):\n",
    "        '''\n",
    "        isleaf : a Boolean variable indicating whether the node is a leaf node or not.\n",
    "        depth : the depth of the node\n",
    "        X : the indices of data set associated with the nodes (to be splitted by the node)\n",
    "        y : label associated with the data\n",
    "        feature : the index of axis by which the node separate data\n",
    "        thresh : the threshold $\\theta$ of splitting applied to the feature.\n",
    "        label : the most frequent class in the points associated with the node.\n",
    "        left : the left child node of the node\n",
    "        right : the right child node of the node\n",
    "        '''\n",
    "        self.isleaf = None\n",
    "        self.depth = depth\n",
    "        self.X = X\n",
    "        self.y = y\n",
    "        self.n, self.m = np.shape(self.X)\n",
    "        self.feature = None\n",
    "        self.thresh = None\n",
    "        self.label = np.argmax(np.bincount(y))\n",
    "        self.left = None\n",
    "        self.right = None\n",
    "        \n",
    "        \n",
    "    def impurity(self, y, criterion):\n",
    "        '''\n",
    "        The method calculates the impurity criterion (entropy or gini) for a given label array y.\n",
    "        '''\n",
    "        Ns = np.bincount(y)\n",
    "        N = len(y)\n",
    "        ps = Ns / N\n",
    "\n",
    "        if criterion == 'gini':\n",
    "            return np.sum(ps * (1 - ps))\n",
    "        elif criterion == 'entropy':\n",
    "            ps[ps == 0] = 1  # avoid log(0)\n",
    "            return -np.sum(ps * np.log(ps))\n",
    "\n",
    "\n",
    "    def calc_impurity_splitted(self, y_left, y_right, criterion):\n",
    "        '''\n",
    "        The method calculates the impurity criterion after the splitting,\n",
    "        where the values is given by weighted sum of impurity indices of two regions.\n",
    "        '''\n",
    "        Nl = len(y_left)\n",
    "        Nr = len(y_right)\n",
    "        N = Nl + Nr\n",
    "        return Nl/N * self.impurity(y_left, criterion) + Nr/N * self.impurity(y_right, criterion)\n",
    "\n",
    "\n",
    "    def find_best_split(self, criterion):\n",
    "        \n",
    "        best_feature = None\n",
    "        best_thresh = None\n",
    "        \n",
    "        ##################\n",
    "        # your code here #\n",
    "        ##################\n",
    "        \n",
    "        self.feature = best_feature\n",
    "        self.thresh = best_thresh\n",
    "    \n",
    "    def split(self, max_depth, min_samples_split, criterion):\n",
    "        '''\n",
    "        The method splits data points recursively, where the splitting is based\n",
    "        on the feature and threshold given by the result of find_best_split\n",
    "        '''\n",
    "        \n",
    "        ##################\n",
    "        # your code here #\n",
    "        ##################\n",
    "        \n",
    "            \n",
    "    def judge(self, x):\n",
    "        '''\n",
    "        This recursive method makes prediction as to which class the input x falls into.\n",
    "        If the node is not a leaf (self.isleaf==False), then it will descend\n",
    "        the tree to ask sub-nodes.\n",
    "        '''\n",
    "        if self.isleaf:\n",
    "            return self.label\n",
    "        else:\n",
    "            if x[self.feature] < self.thresh:\n",
    "                return self.left.judge(x)\n",
    "            else:\n",
    "                return self.right.judge(x)"
   ]
  },
  {
   "cell_type": "code",
   "execution_count": null,
   "metadata": {},
   "outputs": [],
   "source": [
    "class DecisionTreeClassifier:\n",
    "    def __init__(self, max_depth, min_samples_split, criterion):\n",
    "        self.max_depth = max_depth\n",
    "        self.min_samples_split = min_samples_split\n",
    "        self.criterion = criterion\n",
    "    \n",
    "    def fit(self, X, y):\n",
    "        self.root_node = Node(depth=0, X=X, y=y)\n",
    "        self.root_node.split(max_depth=self.max_depth, min_samples_split=self.min_samples_split, criterion=self.criterion)\n",
    "        return self\n",
    "        \n",
    "    def predict(self, X):\n",
    "        y = np.zeros(len(X), dtype='int')\n",
    "        for i in range(len(X)):\n",
    "            y[i] = self.root_node.judge(X[i])\n",
    "        return y"
   ]
  },
  {
   "attachments": {},
   "cell_type": "markdown",
   "metadata": {},
   "source": [
    "# Experiment"
   ]
  },
  {
   "cell_type": "code",
   "execution_count": null,
   "metadata": {},
   "outputs": [],
   "source": [
    "from sklearn import datasets\n",
    "\n",
    "N = 100\n",
    "X, y = datasets.make_moons(n_samples = N, noise = 0.2)\n",
    "\n",
    "xx1 = np.linspace(np.min(X[:,0]),np.max(X[:,0]),101)\n",
    "xx2 = np.linspace(np.min(X[:,1]),np.max(X[:,1]),100)\n",
    "Xtest = np.array([[x1,x2] for x1 in xx1  for x2 in xx2])\n",
    "xxx1, xxx2 = np.meshgrid(xx1, xx2)\n",
    "\n",
    "def plot_result(clf):\n",
    "    plt.plot(X[:,0][y==1], X[:,1][y==1],\"o\",label=\"1\")\n",
    "    plt.plot(X[:,0][y==0], X[:,1][y==0],\"o\",label=\"0\")\n",
    "    plt.legend()\n",
    "    pred_val = clf.predict(Xtest)\n",
    "    pred_val_2D = np.reshape(pred_val,(len(xx1),len(xx2))).T\n",
    "    plt.pcolormesh(xxx1, xxx2, pred_val_2D, shading='auto')\n",
    "    plt.colorbar()\n",
    "    plt.show()"
   ]
  },
  {
   "cell_type": "code",
   "execution_count": null,
   "metadata": {
    "scrolled": true
   },
   "outputs": [],
   "source": [
    "dtc = DecisionTreeClassifier(max_depth=40, min_samples_split=2, criterion='entropy')\n",
    "dtc.fit(X, y)\n",
    "plot_result(dtc)"
   ]
  },
  {
   "cell_type": "code",
   "execution_count": null,
   "metadata": {},
   "outputs": [],
   "source": []
  }
 ],
 "metadata": {
  "kernelspec": {
   "display_name": "Python 3",
   "language": "python",
   "name": "python3"
  },
  "language_info": {
   "codemirror_mode": {
    "name": "ipython",
    "version": 3
   },
   "file_extension": ".py",
   "mimetype": "text/x-python",
   "name": "python",
   "nbconvert_exporter": "python",
   "pygments_lexer": "ipython3",
   "version": "3.10.6"
  }
 },
 "nbformat": 4,
 "nbformat_minor": 2
}
